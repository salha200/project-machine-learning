{
 "cells": [
  {
   "cell_type": "code",
   "execution_count": 1,
   "id": "0f2ab8cc",
   "metadata": {},
   "outputs": [],
   "source": [
    "import pandas as pd\n",
    "import numpy as np\n",
    "from sklearn.model_selection import train_test_split, cross_val_score, GridSearchCV\n",
    "from sklearn.linear_model import LogisticRegression\n",
    "from sklearn.ensemble import RandomForestClassifier\n",
    "from sklearn.metrics import precision_score, recall_score\n",
    "from sklearn.preprocessing import StandardScaler"
   ]
  },
  {
   "cell_type": "code",
   "execution_count": 2,
   "id": "fc54d37e",
   "metadata": {},
   "outputs": [],
   "source": [
    "data = pd.read_csv(\"train.csv\")"
   ]
  },
  {
   "cell_type": "code",
   "execution_count": 3,
   "id": "f5b840c0",
   "metadata": {},
   "outputs": [],
   "source": [
    "\n",
    "#ملء القيم المفقودة في الأعمدة العددية بمتوسط القيم.\n",
    "numeric_col= data.select_dtypes(include=[np.number]).columns\n",
    "data[numeric_col] = data[numeric_col].fillna(data[numeric_col].mean())"
   ]
  },
  {
   "cell_type": "code",
   "execution_count": 4,
   "id": "a467f861",
   "metadata": {},
   "outputs": [],
   "source": [
    "# إزالة الصفوف المكررة من البيانات.\n",
    "data.drop_duplicates(inplace=True)"
   ]
  },
  {
   "cell_type": "code",
   "execution_count": 5,
   "id": "16c62415",
   "metadata": {},
   "outputs": [],
   "source": [
    "# تحويل البيانات الفئوية إلى صيغة رقمية\n",
    "data = pd.get_dummies(data)"
   ]
  },
  {
   "cell_type": "code",
   "execution_count": 6,
   "id": "cab65a22",
   "metadata": {},
   "outputs": [],
   "source": [
    "# تقسيم البيانات إلى تدريب واختبار\n",
    "\n",
    "X = data.drop('Survived', axis=1)\n",
    "y = data['Survived']\n",
    "X_train, X_test, y_train, y_test = train_test_split(X, y, test_size=0.2, random_state=42)\n"
   ]
  },
  {
   "cell_type": "code",
   "execution_count": 7,
   "id": "ba97862b",
   "metadata": {},
   "outputs": [],
   "source": [
    "# توحيد الميزات ليكون لها متوسط 0 وانحراف معياري 1.\n",
    "scaler = StandardScaler()\n",
    "X_train = scaler.fit_transform(X_train)\n",
    "X_test = scaler.transform(X_test)"
   ]
  },
  {
   "cell_type": "code",
   "execution_count": 8,
   "id": "ca8ad3ab",
   "metadata": {},
   "outputs": [],
   "source": [
    "# تدريب نموذج الانحدار اللوجستي، ثم حساب الدقة والاستدعاء للنموذج.\n",
    "log_reg = LogisticRegression(solver='liblinear')  # استخدام solver يدعم penalty='l1'\n",
    "log_reg.fit(X_train, y_train)\n",
    "y_pred_log_reg = log_reg.predict(X_test)\n",
    "precision_log_reg = precision_score(y_test, y_pred_log_reg, zero_division=1)\n",
    "recall_log_reg = recall_score(y_test, y_pred_log_reg, zero_division=1)\n"
   ]
  },
  {
   "cell_type": "code",
   "execution_count": 9,
   "id": "16d9554b",
   "metadata": {},
   "outputs": [],
   "source": [
    "# تدريب نموذج الغابة العشوائية، ثم حساب الدقة والاستدعاء للنموذج.\n",
    "rf_clf = RandomForestClassifier()\n",
    "rf_clf.fit(X_train, y_train)\n",
    "y_pred_rf = rf_clf.predict(X_test)\n",
    "precision_rf = precision_score(y_test, y_pred_rf, zero_division=1)\n",
    "recall_rf = recall_score(y_test, y_pred_rf, zero_division=1)"
   ]
  },
  {
   "cell_type": "code",
   "execution_count": 10,
   "id": "94983040",
   "metadata": {},
   "outputs": [
    {
     "name": "stdout",
     "output_type": "stream",
     "text": [
      "Logistic Regression - Precision: 0.8620689655172413, Recall: 0.6756756756756757\n",
      "Random Forest - Precision: 0.8095238095238095, Recall: 0.6891891891891891\n"
     ]
    }
   ],
   "source": [
    "# طباعة النتائج\n",
    "print(f\"Logistic Regression - Precision: {precision_log_reg}, Recall: {recall_log_reg}\")\n",
    "print(f\"Random Forest - Precision: {precision_rf}, Recall: {recall_rf}\")\n"
   ]
  },
  {
   "cell_type": "code",
   "execution_count": 11,
   "id": "e9368510",
   "metadata": {},
   "outputs": [
    {
     "name": "stdout",
     "output_type": "stream",
     "text": [
      "The best model is: RandomForestClassifier\n"
     ]
    }
   ],
   "source": [
    "# اختيار النموذج الأفضل بناءً على الدقة والاستدعاء.\n",
    "if precision_log_reg > precision_rf and recall_log_reg > recall_rf:\n",
    "    best_model = \"LogisticRegression\"\n",
    "else:\n",
    "    best_model = \"RandomForestClassifier\"\n",
    "\n",
    "print(f\"The best model is: {best_model}\")"
   ]
  },
  {
   "cell_type": "code",
   "execution_count": 12,
   "id": "6e561189",
   "metadata": {},
   "outputs": [
    {
     "name": "stdout",
     "output_type": "stream",
     "text": [
      "Cross-Validation Precision Scores: [0.96153846 0.81666667 0.80645161 0.84090909 0.88888889]\n",
      "Mean Cross-Validation Precision: 0.8628909441812667\n"
     ]
    }
   ],
   "source": [
    "# التحقق المتقاطع للنموذج الأفضل\n",
    "if best_model == \"LogisticRegression\":\n",
    "    model = LogisticRegression(solver='liblinear')\n",
    "else:\n",
    "    model = RandomForestClassifier()\n",
    "\n",
    "cross_val_scores = cross_val_score(model, X, y, cv=5, scoring='precision')\n",
    "print(f\"Cross-Validation Precision Scores: {cross_val_scores}\")\n",
    "print(f\"Mean Cross-Validation Precision: {cross_val_scores.mean()}\")\n"
   ]
  },
  {
   "cell_type": "code",
   "execution_count": 13,
   "id": "73dbae08",
   "metadata": {},
   "outputs": [
    {
     "name": "stdout",
     "output_type": "stream",
     "text": [
      "Best Hyperparameters for RandomForestClassifier: {'max_features': 'log2', 'n_estimators': 100}\n"
     ]
    }
   ],
   "source": [
    "# تحسين المتغيرات باستخدام GridSearchCV\n",
    "param_grid = {\n",
    "    'LogisticRegression': {\n",
    "        'C': [0.1, 1, 10, 100],\n",
    "        'penalty': ['l1', 'l2'],\n",
    "        'solver': ['liblinear']  # solver لدعم l1 و l2\n",
    "    },\n",
    "    'RandomForestClassifier': {\n",
    "        'n_estimators': [50, 100, 200],\n",
    "        'max_features': ['sqrt', 'log2']  # استخدام الخيارات المدعومة\n",
    "    }\n",
    "}\n",
    "\n",
    "grid_search = GridSearchCV(model, param_grid[best_model], cv=5, scoring='precision')\n",
    "grid_search.fit(X_train, y_train)\n",
    "best_params = grid_search.best_params_\n",
    "\n",
    "print(f\"Best Hyperparameters for {best_model}: {best_params}\")"
   ]
  },
  {
   "cell_type": "code",
   "execution_count": null,
   "id": "0a28d5b0",
   "metadata": {},
   "outputs": [],
   "source": []
  }
 ],
 "metadata": {
  "kernelspec": {
   "display_name": "Python 3 (ipykernel)",
   "language": "python",
   "name": "python3"
  },
  "language_info": {
   "codemirror_mode": {
    "name": "ipython",
    "version": 3
   },
   "file_extension": ".py",
   "mimetype": "text/x-python",
   "name": "python",
   "nbconvert_exporter": "python",
   "pygments_lexer": "ipython3",
   "version": "3.11.3"
  }
 },
 "nbformat": 4,
 "nbformat_minor": 5
}
